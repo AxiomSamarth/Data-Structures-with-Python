{
 "cells": [
  {
   "cell_type": "code",
   "execution_count": 35,
   "metadata": {},
   "outputs": [],
   "source": [
    "class LinkedList:\n",
    "    \n",
    "    class _Node:\n",
    "        \n",
    "        def __init__(self, data):\n",
    "            self._data = data\n",
    "            self._next = None\n",
    "    \n",
    "    def __init__(self):\n",
    "        self._head = None\n",
    "            \n",
    "    def _add_node(self, data):\n",
    "        new_node = self._Node(data)\n",
    "        if self._head is None:\n",
    "            self._head = new_node\n",
    "        else:\n",
    "            cursor = self._head\n",
    "            while cursor._next is not None:\n",
    "                cursor = cursor._next\n",
    "            cursor._next = new_node\n",
    "            \n",
    "    def _display(self):\n",
    "        if self._head is None:\n",
    "            print(\"The linked lsit is empty\")\n",
    "        else:\n",
    "            cursor = self._head\n",
    "            while cursor is not None:\n",
    "                print(cursor._data, end=' ')\n",
    "                cursor = cursor._next\n",
    "                \n",
    "    def _reverse_recursively(self, node):\n",
    "        if node._next is None:\n",
    "            self._head = node\n",
    "            return\n",
    "        else:\n",
    "            self._reverse_recursively(node._next)\n",
    "            node._next._next = node\n",
    "            node._next = None\n",
    "                \n",
    "    def _reverse_iteratively(self):\n",
    "        if self._head is None:\n",
    "            print(\"Linked list is empty\")\n",
    "        else:\n",
    "            cursor = self._head\n",
    "            prev = None\n",
    "            while cursor is not None:\n",
    "                next_node = cursor._next\n",
    "                cursor._next = prev\n",
    "                prev = cursor\n",
    "                cursor = next_node\n",
    "            self._head = prev"
   ]
  },
  {
   "cell_type": "code",
   "execution_count": 37,
   "metadata": {},
   "outputs": [
    {
     "name": "stdout",
     "output_type": "stream",
     "text": [
      "Linked list before reversing - \n",
      "38 41 15 12 55 59 46 52 42 82 \n",
      "Linked list after reversing - \n",
      "82 42 52 46 59 55 12 15 41 38 \n",
      "Reverse the linked list using recursion\n",
      "38 41 15 12 55 59 46 52 42 82 "
     ]
    }
   ],
   "source": [
    "if __name__ == '__main__':\n",
    "    \n",
    "    import random \n",
    "    \n",
    "    numbers = [random.randint(0, 100) for i in range(10)]\n",
    "    \n",
    "    linked_list = LinkedList()\n",
    "    \n",
    "    for number in numbers:\n",
    "        linked_list._add_node(number)\n",
    "        \n",
    "    print(\"Linked list before reversing - \")\n",
    "    linked_list._display()\n",
    "\n",
    "    linked_list._reverse_iteratively()\n",
    "    \n",
    "    print(\"\\nLinked list after reversing - \")\n",
    "    linked_list._display()\n",
    "    \n",
    "    linked_list._reverse_recursively(linked_list._head)\n",
    "    \n",
    "    print(\"\\nReverse the linked list using recursion\")\n",
    "    linked_list._display()\n",
    "    "
   ]
  },
  {
   "cell_type": "code",
   "execution_count": null,
   "metadata": {},
   "outputs": [],
   "source": []
  },
  {
   "cell_type": "code",
   "execution_count": null,
   "metadata": {},
   "outputs": [],
   "source": []
  }
 ],
 "metadata": {
  "kernelspec": {
   "display_name": "Python 3",
   "language": "python",
   "name": "python3"
  },
  "language_info": {
   "codemirror_mode": {
    "name": "ipython",
    "version": 3
   },
   "file_extension": ".py",
   "mimetype": "text/x-python",
   "name": "python",
   "nbconvert_exporter": "python",
   "pygments_lexer": "ipython3",
   "version": "3.7.3"
  }
 },
 "nbformat": 4,
 "nbformat_minor": 4
}
