{
 "cells": [
  {
   "cell_type": "markdown",
   "metadata": {},
   "source": [
    "<h1>Circular Queue</h1>\n",
    "<p>Circular queues are special implementation of linear queue that overcome one of the disadvantages of linear queue.</p> \n",
    "    \n",
    "<p>In linear queue, the deletion always happens from the front and the insertion always happens from the rear end. So, upon deletion even though the first few spaces are free in the queue, they are not subjected to insertion of new incoming elements and would be shown as queue overflow.</p>\n",
    "\n",
    "<p>Circular queue overcomes this disadvantage of linear queue by modifying the front and rear indices in a circular fashion. Let's see the implementation.</p>"
   ]
  },
  {
   "cell_type": "code",
   "execution_count": null,
   "metadata": {},
   "outputs": [],
   "source": [
    "# define an user defined exception class to handle the Queue Underflow condition\n",
    "class QueueUnderflow(Exception):\n",
    "    \n",
    "    # this is the constructor to set the exception message in the object of exception\n",
    "    def __init__(self, message):\n",
    "        self.message = message\n",
    "        \n",
    "    # this is the str dunder method\n",
    "    def __str__(self):\n",
    "        return str(self.message)"
   ]
  },
  {
   "cell_type": "code",
   "execution_count": null,
   "metadata": {},
   "outputs": [],
   "source": [
    "# define an user defined exception class to handle the Queue overflow condition\n",
    "class QueueOverflow(Exception):\n",
    "    \n",
    "    # this is the constructor for the class to initialize the object with the exception message\n",
    "    def __init__(self, message):\n",
    "        self.message = message\n",
    "    \n",
    "    # this is the str dunder method    \n",
    "    def __str__(self):\n",
    "        return str(self.message)"
   ]
  },
  {
   "cell_type": "code",
   "execution_count": null,
   "metadata": {},
   "outputs": [],
   "source": [
    "# define the class for Queue and other associated methods\n",
    "class Queue:\n",
    "    \n",
    "    # inistantiate the queue object with the empty list of size length and set front and rear indices to -1\n",
    "    def __init__(self):\n",
    "        self._length = 5\n",
    "        self._queue = [None for i in range(self._length)]\n",
    "        self._front = self._rear = -1\n",
    "        \n",
    "    # this method adds new data item into the circular queue \n",
    "    def _enqueue(self, data):\n",
    "        \n",
    "        try:\n",
    "            # if the front and rear indices are at -1 then the queue is empty, change them to 0 and add at rear\n",
    "            if self._front == -1 and self._rear == -1:\n",
    "                self._front = self._rear = 0\n",
    "                self._queue[self._rear] = data\n",
    "                \n",
    "            # if the front and rear are adjacent to each other then the queue is full. Raise an exception\n",
    "            elif (self._rear + 1) % self._length == self._front:\n",
    "                raise QueueOverflow(\"Queue is full\")\n",
    "\n",
    "            # otherwise, there is space in the queue at the rear, add the new data item to the rear of the queue\n",
    "            else:\n",
    "                self._rear = (self._rear + 1) % self._length\n",
    "                self._queue[self._rear] = data\n",
    "                \n",
    "        except QueueOverflow as e:\n",
    "            print(e)\n",
    "            \n",
    "    # this method removes the front most data item from the queue\n",
    "    def _dequeue(self):\n",
    "        try:\n",
    "            # if both front and rear indices are at -1 then the queue is empty. Raise an exception\n",
    "            if self._front == -1 and self._rear == -1:\n",
    "                raise QueueUnderflow(\"Queue is empty\")\n",
    "\n",
    "            # when the last data item is to be removed then both front and rear indices will be at same place\n",
    "            # so set them to -1 indicating the queue the now empty after removal\n",
    "            elif self._front == self._rear:\n",
    "                self._front = self._rear = -1\n",
    "\n",
    "            # otherwise, modify the front index to point to the next index in the queue\n",
    "            else:\n",
    "                self._front = (self._front + 1) % self._length\n",
    "                \n",
    "        except QueueUnderflow as e:\n",
    "            print(e)\n",
    "            \n",
    "    # this method returns the peek\n",
    "    def _peek(self):\n",
    "        try:\n",
    "            if self._front == -1 and self._rear == -1:\n",
    "                raise QueueUnderflow(\"Queue is empty\")\n",
    "            else:\n",
    "                return self._queue[self._front]\n",
    "        except QueueUnderflow as e:\n",
    "            print(e)\n",
    "            \n",
    "    # this method prints the queue items in FIFO order\n",
    "    def _display_queue(self):\n",
    "        try:\n",
    "            # if the front and rear indices are at -1 then the queue is empty. Raise an exception\n",
    "            if self._rear == -1 and self._front == -1:\n",
    "                raise QueueUnderflow(\"Queue is empty\")\n",
    "            else:\n",
    "                # starting from front, iterate through the queued items and print them\n",
    "                front = self._front\n",
    "                while front!=self._rear:\n",
    "                    print(self._queue[front], end=\" \")\n",
    "                    front = (front+1)%self._length\n",
    "                \n",
    "                # finally when out of the loop, you need to print the last queued item at the rear\n",
    "                print(self._queue[front])\n",
    "        except QueueUnderflow as e:\n",
    "            print(e)\n"
   ]
  },
  {
   "cell_type": "code",
   "execution_count": null,
   "metadata": {},
   "outputs": [],
   "source": [
    "# under the main namespace, write down your unit testcases\n",
    "if __name__ == \"__main__\":\n",
    "\n",
    "    # create an empty queue object\n",
    "    queue = Queue()\n",
    "    \n",
    "    # add few data items to the queue. Also, check if the overflow exception is handled correct or not\n",
    "    for i in range(1,7):\n",
    "        queue._enqueue(i*10)\n",
    "        \n",
    "    # display the queue\n",
    "    queue._display_queue()"
   ]
  },
  {
   "cell_type": "code",
   "execution_count": null,
   "metadata": {},
   "outputs": [],
   "source": [
    "    # invoke the dequeue method a few times and see if the items are removed in the right order and\n",
    "    # if the underflow exception is handled correctly\n",
    "    queue._dequeue()    \n",
    "    queue._display_queue()"
   ]
  },
  {
   "cell_type": "code",
   "execution_count": null,
   "metadata": {},
   "outputs": [],
   "source": [
    "    # enqueue another data item and see if the queue that is emptied, inserts the new item correctly or not\n",
    "    queue._enqueue(10)\n",
    "    queue._display_queue()"
   ]
  }
 ],
 "metadata": {
  "kernelspec": {
   "display_name": "Python 3",
   "language": "python",
   "name": "python3"
  },
  "language_info": {
   "codemirror_mode": {
    "name": "ipython",
    "version": 3
   },
   "file_extension": ".py",
   "mimetype": "text/x-python",
   "name": "python",
   "nbconvert_exporter": "python",
   "pygments_lexer": "ipython3",
   "version": "3.7.3"
  }
 },
 "nbformat": 4,
 "nbformat_minor": 4
}
