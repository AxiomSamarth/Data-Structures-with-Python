{
 "cells": [
  {
   "cell_type": "markdown",
   "metadata": {},
   "source": [
    "<h1>Depth First Traversal</h1>\n",
    "<p>If the tree/graph needs to be traversed in a depth first fashion then one needs to use a combination of data structures which are trees/graphs and stack. Start by pushing the root and pushing the children of the top node in the queue for every pop</p>"
   ]
  },
  {
   "cell_type": "code",
   "execution_count": 1,
   "metadata": {},
   "outputs": [],
   "source": [
    "# define a user defined exception class to handle the empty tree exception \n",
    "class EmptyTree(Exception):\n",
    "    \n",
    "    # define the constructor and initialize the message attribute\n",
    "    def __init__(self, message):\n",
    "        self._message = message\n",
    "        \n",
    "    # the string dunder method to represent the string format of the object\n",
    "    def __str__(self):\n",
    "        return str(self._message)\n",
    "    \n",
    "    # the repr dunder method to represent the object \n",
    "    def __repr__(self):\n",
    "        return str(self._message)"
   ]
  },
  {
   "cell_type": "code",
   "execution_count": 2,
   "metadata": {},
   "outputs": [],
   "source": [
    "class Binary_Search_Tree:\n",
    "    \n",
    "    def __init__(self):\n",
    "        self._root = None\n",
    "        \n",
    "    def _add_node(self, data):\n",
    "        if self._root is None:\n",
    "            self._root = Node(data)\n",
    "        else:\n",
    "            if data >= self._root._data:\n",
    "                self._root._right._add_node(data)\n",
    "            else:\n",
    "                self._root._left._add_node(data)\n",
    "                \n",
    "    def _show_tree(self):\n",
    "        if self._root is None:\n",
    "            return\n",
    "        else:\n",
    "            self._root._left._show_tree()\n",
    "            print(self._root._data, end=\" \")\n",
    "            self._root._right._show_tree()\n",
    "            \n",
    "    def _depth_first_traversal(self):\n",
    "        try:\n",
    "            if self._root is None:\n",
    "                raise EmptyTree(\"Tree is empty\")\n",
    "            else:\n",
    "                stack = [self]\n",
    "                while len(stack):\n",
    "                    node = stack.pop()\n",
    "                    print(node._root._data, end=\" \")\n",
    "                    \n",
    "                    if node._root._right._root is not None:\n",
    "                        stack.append(node._root._right)\n",
    "                        \n",
    "                    if node._root._left._root is not None:\n",
    "                        stack.append(node._root._left)\n",
    "        except EmptyTree as e:\n",
    "            return e"
   ]
  },
  {
   "cell_type": "code",
   "execution_count": 3,
   "metadata": {},
   "outputs": [],
   "source": [
    "class Node:\n",
    "    \n",
    "    def __init__(self, data):\n",
    "        self._data = data\n",
    "        self._right = Binary_Search_Tree()\n",
    "        self._left = Binary_Search_Tree()"
   ]
  },
  {
   "cell_type": "code",
   "execution_count": 4,
   "metadata": {},
   "outputs": [
    {
     "name": "stdout",
     "output_type": "stream",
     "text": [
      "Inorder traversal of the tree\n",
      "10 30 35 40 45 50 \n",
      "\n",
      "Depth First Traversal\n",
      "40 30 10 35 50 45 "
     ]
    }
   ],
   "source": [
    "if __name__ == '__main__':\n",
    "    # create an object of Binary Search Tree \n",
    "    bst = Binary_Search_Tree()\n",
    "\n",
    "    # add a few nodes to the binary search tree \n",
    "    bst._add_node(40)\n",
    "    bst._add_node(30)\n",
    "    bst._add_node(50)\n",
    "    bst._add_node(10)\n",
    "    bst._add_node(45)\n",
    "    bst._add_node(35)\n",
    "\n",
    "    # display the nodes of the binary tree\n",
    "    print(\"Inorder traversal of the tree\")\n",
    "    bst._show_tree()\n",
    "\n",
    "    # traverse the tree in a depth first fashion\n",
    "    print(\"\\n\\nDepth First Traversal\")\n",
    "    bst._depth_first_traversal()"
   ]
  },
  {
   "cell_type": "code",
   "execution_count": null,
   "metadata": {},
   "outputs": [],
   "source": []
  }
 ],
 "metadata": {
  "kernelspec": {
   "display_name": "Python 3",
   "language": "python",
   "name": "python3"
  },
  "language_info": {
   "codemirror_mode": {
    "name": "ipython",
    "version": 3
   },
   "file_extension": ".py",
   "mimetype": "text/x-python",
   "name": "python",
   "nbconvert_exporter": "python",
   "pygments_lexer": "ipython3",
   "version": "3.6.6"
  }
 },
 "nbformat": 4,
 "nbformat_minor": 2
}
