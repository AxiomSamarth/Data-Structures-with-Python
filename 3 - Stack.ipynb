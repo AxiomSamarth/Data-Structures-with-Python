{
 "cells": [
  {
   "cell_type": "markdown",
   "metadata": {},
   "source": [
    "<h1>Stack</h1>\n",
    "<p>This is one of the ADT's (Abstract Data Types) that implements the policy of LIFO (Last in; First out). That is, the element that is added at the end is the one that can be removed first.</p>\n",
    "<p>In this program, we shall implement the ADT stack with Linked List. Remember, that the same can be implemented using Python lists. But, for now, we shall stick to linked lists.</p>"
   ]
  },
  {
   "cell_type": "code",
   "execution_count": null,
   "metadata": {},
   "outputs": [],
   "source": [
    "class EmptyStack(Exception):\n",
    "    def __init__(self, message):\n",
    "        self.message = message\n",
    "    \n",
    "    def __str__(self):\n",
    "        return self.message"
   ]
  },
  {
   "cell_type": "code",
   "execution_count": null,
   "metadata": {},
   "outputs": [],
   "source": [
    "# create a class for stack\n",
    "class Stack:\n",
    "    \n",
    "    # create a non-public class to template the node\n",
    "    class _Node:\n",
    "        \n",
    "        # create the constructor for the node with the attributes of data and pointer\n",
    "        def __init__(self, data):\n",
    "            self._data = data\n",
    "            self._pointer = None\n",
    "    \n",
    "    # constructor for the stack with head/top initialized to None\n",
    "    def __init__(self):\n",
    "        self._head = None\n",
    "        \n",
    "    # method to push the node to the top of the stack\n",
    "    def _push(self, data):\n",
    "        \n",
    "        # create the new node with the data passed as the argument \n",
    "        self._node = self._Node(data)\n",
    "        \n",
    "        # always refer the head node to the new node that is being pushed\n",
    "        if self._head is None:\n",
    "            self._head = self._node\n",
    "        else:\n",
    "            self._node._pointer = self._head\n",
    "            self._head = self._node\n",
    "        \n",
    "    # method to show the stack elements from last inserted element to the first inserted element\n",
    "    def _show_stack(self):\n",
    "        try:\n",
    "            if self._head is None:\n",
    "                raise EmptyStack(\"Stack is empty\")\n",
    "            else:\n",
    "                temp = self._head\n",
    "                while(temp != None):\n",
    "                    print(temp._data, end=\" \")\n",
    "                    temp = temp._pointer\n",
    "        except EmptyStack as e:\n",
    "            return e        \n",
    "        except Exception as e:\n",
    "            return e\n",
    "        \n",
    "    # method to pop out the element/node from the stack\n",
    "    def _pop(self):\n",
    "        try:\n",
    "            if self._head is None:\n",
    "                raise EmptyStack(\"Stack is empty\")\n",
    "            else:\n",
    "                print(\"Popping\", self._head._data, \"from the Stack\")\n",
    "                self._head = self._head._pointer\n",
    "        except EmptyStack as e:\n",
    "            return e\n",
    "        except Exception as e:\n",
    "            return e\n",
    "    \n",
    "    # method to show the node located at the top of the stack. Basically, display the node \n",
    "    # that would be popped out of the stack next\n",
    "    def _show_top(self):\n",
    "        try:\n",
    "            if self._head is None:\n",
    "                raise EmptyStack(\"Stack is empty\")\n",
    "            else:\n",
    "                return self._head._data\n",
    "        except EmptyStack as e:\n",
    "            return e \n",
    "        except Exception as e:\n",
    "            return e       "
   ]
  },
  {
   "cell_type": "markdown",
   "metadata": {},
   "source": [
    "<p>Now, we shall create a new object of Stack and try out all the methods on the same</p>"
   ]
  },
  {
   "cell_type": "code",
   "execution_count": null,
   "metadata": {},
   "outputs": [],
   "source": [
    "# create a new object of the Stack class\n",
    "stack = Stack()\n",
    "\n",
    "# test the customized exception that is defined in the program to handle the empty stack\n",
    "stack._show_stack()"
   ]
  },
  {
   "cell_type": "code",
   "execution_count": null,
   "metadata": {},
   "outputs": [],
   "source": [
    "# push few elements to the stack\n",
    "stack._push(10)\n",
    "stack._push(20)\n",
    "stack._push(30)\n",
    "stack._push(40)"
   ]
  },
  {
   "cell_type": "code",
   "execution_count": null,
   "metadata": {},
   "outputs": [],
   "source": [
    "# display the stack elements\n",
    "stack._show_stack()"
   ]
  },
  {
   "cell_type": "code",
   "execution_count": null,
   "metadata": {},
   "outputs": [],
   "source": [
    "# pop out the nodes from the stack\n",
    "stack._pop()"
   ]
  },
  {
   "cell_type": "code",
   "execution_count": null,
   "metadata": {},
   "outputs": [],
   "source": [
    "# show the top node of the stack\n",
    "stack._show_top()"
   ]
  },
  {
   "cell_type": "code",
   "execution_count": null,
   "metadata": {},
   "outputs": [],
   "source": []
  }
 ],
 "metadata": {
  "kernelspec": {
   "display_name": "Python 3",
   "language": "python",
   "name": "python3"
  },
  "language_info": {
   "codemirror_mode": {
    "name": "ipython",
    "version": 3
   },
   "file_extension": ".py",
   "mimetype": "text/x-python",
   "name": "python",
   "nbconvert_exporter": "python",
   "pygments_lexer": "ipython3",
   "version": "3.6.6"
  }
 },
 "nbformat": 4,
 "nbformat_minor": 2
}
