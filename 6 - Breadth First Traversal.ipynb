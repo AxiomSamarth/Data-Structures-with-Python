{
 "cells": [
  {
   "cell_type": "markdown",
   "metadata": {},
   "source": [
    "<h1>Breadth First Traversal</h1>\n",
    "<p>If the tree needs to be traversed in a breadth first fashion then one needs to use a combination of data structures which are trees/graphs and queue. Start by enqueuing the root and enqueuing the children of the first node in the queue for every dequeue</p>"
   ]
  },
  {
   "cell_type": "code",
   "execution_count": null,
   "metadata": {},
   "outputs": [],
   "source": [
    "# define a user defined exception class to handle the exception of empty tree\n",
    "class EmptyTree(Exception):\n",
    "    \n",
    "    def __init__(self, message):\n",
    "        self.message = message\n",
    "        \n",
    "    def __str__(self):\n",
    "        return self.message"
   ]
  },
  {
   "cell_type": "code",
   "execution_count": null,
   "metadata": {},
   "outputs": [],
   "source": [
    "# define the binary search tree class and associated methods needed for builing a tree\n",
    "# and for this example to demonstrate the breadth first search\n",
    "class Binary_Search_Tree:        \n",
    "    \n",
    "    # constructor to instantiate Binary Search Tree with root set to None\n",
    "    def __init__(self):\n",
    "        self._root = None\n",
    "        \n",
    "    # this method is to add node based on the rules of the binary search tree\n",
    "    def _add_node(self, data):\n",
    "        if self._root is None:\n",
    "            self._root = Node(data)\n",
    "        else:\n",
    "            if data >= self._root._data:\n",
    "                self._root._right._add_node(data)\n",
    "            else:\n",
    "                self._root._left._add_node(data)\n",
    "    \n",
    "    # this method displays the nodes of the binary search tree in an inorder fashion\n",
    "    def _show_tree(self):\n",
    "        if self._root is None:\n",
    "            return \"Tree is empty\"\n",
    "        else:\n",
    "            self._root._left._show_tree()\n",
    "            print(self._root._data, end=\" \")\n",
    "            self._root._right._show_tree()  \n",
    "            \n",
    "    # this method implements breadth first traversal\n",
    "    def _breadth_first_traversal(self):\n",
    "        \n",
    "        # check if the tree is emtpty and handle the exception\n",
    "        try:\n",
    "            if self._root is None:\n",
    "                raise EmptyTree(\"Tree is empty\")\n",
    "            else:\n",
    "                # Breadth First Traversal employs queue data structure\n",
    "                \n",
    "                # populate the queue with the root node of the binary serach tree\n",
    "                queue = [self]\n",
    "                \n",
    "                # while queue has at least one item\n",
    "                while len(queue):\n",
    "                    \n",
    "                    # remove the node under focus, print the\n",
    "                    # and enqueue its children in the queue\n",
    "                    node = queue[0]\n",
    "                    queue.remove(node)        \n",
    "                    \n",
    "                    print(node._root._data, end=\" \")\n",
    "                    \n",
    "                    if node._root._left._root is not None:\n",
    "                        queue.append(node._root._left)\n",
    "                    \n",
    "                    if node._root._right._root is not None:\n",
    "                        queue.append(node._root._right)                   \n",
    "                        \n",
    "        except EmptyTree as e:\n",
    "            return e"
   ]
  },
  {
   "cell_type": "code",
   "execution_count": null,
   "metadata": {},
   "outputs": [],
   "source": [
    "# define a class Node that represents the nodes of the binary search tree\n",
    "class Node:\n",
    "    \n",
    "    # this is the constructor of the node with data sent as an argument\n",
    "    # it is to be noted that the right and left subtree of the node are\n",
    "    # also binary search tree which is why they are initialized to Binary_Search_Tree\n",
    "    # which would have their root values set to None\n",
    "    \n",
    "    def __init__(self, data):\n",
    "        self._data = data\n",
    "        self._right = Binary_Search_Tree()\n",
    "        self._left = Binary_Search_Tree()\n",
    "    \n",
    "    # a simple string dunder method to return the string value of the node data\n",
    "    def __str__(self):\n",
    "        return str(self._data)"
   ]
  },
  {
   "cell_type": "code",
   "execution_count": null,
   "metadata": {},
   "outputs": [],
   "source": [
    "# create an object of Binary Search Tree \n",
    "bst = Binary_Search_Tree()"
   ]
  },
  {
   "cell_type": "code",
   "execution_count": null,
   "metadata": {},
   "outputs": [],
   "source": [
    "# add a few nodes to the binary search tree \n",
    "bst._add_node(40)\n",
    "bst._add_node(30)\n",
    "bst._add_node(50)\n",
    "bst._add_node(10)\n",
    "bst._add_node(45)\n",
    "bst._add_node(35)"
   ]
  },
  {
   "cell_type": "code",
   "execution_count": null,
   "metadata": {},
   "outputs": [],
   "source": [
    "# display the nodes of the binary tree\n",
    "bst._show_tree()"
   ]
  },
  {
   "cell_type": "code",
   "execution_count": null,
   "metadata": {},
   "outputs": [],
   "source": [
    "# traverse the tree in a breadth first fashion\n",
    "bst._breadth_first_traversal()"
   ]
  }
 ],
 "metadata": {
  "kernelspec": {
   "display_name": "Python 3",
   "language": "python",
   "name": "python3"
  },
  "language_info": {
   "codemirror_mode": {
    "name": "ipython",
    "version": 3
   },
   "file_extension": ".py",
   "mimetype": "text/x-python",
   "name": "python",
   "nbconvert_exporter": "python",
   "pygments_lexer": "ipython3",
   "version": "3.6.6"
  }
 },
 "nbformat": 4,
 "nbformat_minor": 2
}
