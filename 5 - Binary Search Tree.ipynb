{
 "cells": [
  {
   "cell_type": "code",
   "execution_count": 1,
   "metadata": {},
   "outputs": [],
   "source": [
    "# define a custom exception class to handle the empty tree scenario\n",
    "class EmptyTree(Exception):\n",
    "    \n",
    "    # constructor for this custom exception class\n",
    "    def __init__(self, message):\n",
    "        self.message = message\n",
    "    \n",
    "    # dunder method to provide details about the exception object\n",
    "    def __str__(self):\n",
    "        return self.message"
   ]
  },
  {
   "cell_type": "code",
   "execution_count": 2,
   "metadata": {},
   "outputs": [],
   "source": [
    "# define the binary search tree class with associated methods and attributes\n",
    "class Binary_Search_Tree:\n",
    "    \n",
    "    # constructor for the binary search tree\n",
    "    def __init__(self):\n",
    "        self._root = None\n",
    "        \n",
    "    # method to add a node to the binary search tree based on the BST rules    \n",
    "    def _add_node(self, data):\n",
    "        if self._root is None:\n",
    "            self._node = Node(data)\n",
    "            self._root = self._node\n",
    "        elif data >= self._root._data:\n",
    "            self._root._right._add_node(data)\n",
    "        else:\n",
    "            self._root._left._add_node(data)\n",
    "            \n",
    "    # method to find the inorder successor of a subtree. This method is useful while deleting a node from the tree\n",
    "    # if the node has both left and right subtree\n",
    "    def _inorder_successor(self):\n",
    "        if self._root is None:\n",
    "            return \n",
    "        else:\n",
    "            self._root._left._inorder_successor()\n",
    "            data = self._root._data\n",
    "            self._root = None\n",
    "            return data\n",
    "       \n",
    "    # this method is to delete the node in the binary search tree\n",
    "    def _delete_node(self, data):\n",
    "        try:            \n",
    "            # check if the bst is empty\n",
    "            if self._root is None:\n",
    "                raise EmptyTree(\"Tree is empty\")\n",
    "            else:\n",
    "                # if the magnitude of the node data to be deleted is greater than the root data then it falls in the \n",
    "                # right subtree\n",
    "                if data > self._root._data:\n",
    "                    self._root._right._delete_node(data)\n",
    "                \n",
    "                # if the magnitude of the node data to be deleted is greater than the root data then it falls in the \n",
    "                # left subtree\n",
    "                elif data < self._root._data:\n",
    "                    self._root._left._delete_node(data)\n",
    "                \n",
    "                # otherwise, it is actually referring to the node to be deleted where the below action would be\n",
    "                # taken upon it\n",
    "                else:\n",
    "                    # check if the node to the deleted is a leaf node    \n",
    "                    if self._root._left._root is None and self._root._right._root is None:\n",
    "                        self._root = None\n",
    "                        return\n",
    "                    \n",
    "                    # check if the node to be deleted has subtree only on one side (either right or left)\n",
    "                    elif self._root._left._root is None or self._root._right._root is None:\n",
    "                        self._root = self._root._left._root or self._root._right._root\n",
    "                        return\n",
    "                    \n",
    "                    # if the node to be deleted has both sub trees then the inorder successor of the left subtree needs\n",
    "                    # to be the replacement of the node under deletion\n",
    "                    # I believe, inorder predecessor of the right subtree can also be used instead\n",
    "                    else:\n",
    "                        self._root._data = self._root._left._inorder_successor()\n",
    "                        return\n",
    "                    \n",
    "        # handle the exception        \n",
    "        except EmptyTree as e:\n",
    "            return e\n",
    "        except Exception as e:\n",
    "            return e\n",
    "         \n",
    "    # this method traverses the bst in an inorder fashion\n",
    "    # this actually prints the nodes in a sorted way\n",
    "    def _inorder_traversal(self):\n",
    "        if self._root is None:\n",
    "            return\n",
    "        else:\n",
    "            self._root._left._inorder_traversal()\n",
    "            print(self._root._data, end=\" \")\n",
    "            self._root._right._inorder_traversal()\n",
    "    \n",
    "    # this method traverses the bst in a postorder fashion\n",
    "    def _postorder_traversal(self):\n",
    "        if self._root is None:\n",
    "            return\n",
    "        else:\n",
    "            self._root._left._postorder_traversal()\n",
    "            self._root._right._postorder_traversal()            \n",
    "            print(self._root._data, end=\" \")\n",
    "            \n",
    "    # this method traverses the bst in a preorder fashion\n",
    "    def _preorder_traversal(self):\n",
    "        if self._root is None:\n",
    "            return \n",
    "        else:\n",
    "            print(self._root._data, end=\" \")\n",
    "            self._root._left._preorder_traversal()\n",
    "            self._root._right._preorder_traversal()\n",
    "                "
   ]
  },
  {
   "cell_type": "code",
   "execution_count": 3,
   "metadata": {},
   "outputs": [],
   "source": [
    "# define a class to represent the node with data and reference to right and left subtree\n",
    "class Node(Binary_Search_Tree):\n",
    "\n",
    "    # this is the constructor for the node of an BST\n",
    "    def __init__(self, data):\n",
    "        \n",
    "        # it is to be noted that the left and right subtree of BST are also BST which is why\n",
    "        # they need to be initialised as empty binary search trees with root equal to None (which is taken \n",
    "        # care by the constructor of the class Binary_Search_Tree)\n",
    "        self._data = data\n",
    "        self._right = Binary_Search_Tree()\n",
    "        self._left = Binary_Search_Tree()"
   ]
  },
  {
   "cell_type": "code",
   "execution_count": 4,
   "metadata": {},
   "outputs": [],
   "source": [
    "# create a binary search tree object\n",
    "bst = Binary_Search_Tree()"
   ]
  },
  {
   "cell_type": "code",
   "execution_count": 5,
   "metadata": {},
   "outputs": [],
   "source": [
    "# add a few nodes to the binary search tree you just created\n",
    "bst._add_node(40)\n",
    "bst._add_node(30)\n",
    "bst._add_node(10)\n",
    "bst._add_node(50)\n",
    "bst._add_node(20)\n",
    "bst._add_node(18)\n",
    "bst._add_node(5)"
   ]
  },
  {
   "cell_type": "code",
   "execution_count": 6,
   "metadata": {},
   "outputs": [
    {
     "name": "stdout",
     "output_type": "stream",
     "text": [
      "5 10 18 20 30 40 50 "
     ]
    }
   ],
   "source": [
    "# traverse the tree in inorder way\n",
    "bst._inorder_traversal()"
   ]
  },
  {
   "cell_type": "code",
   "execution_count": 7,
   "metadata": {},
   "outputs": [
    {
     "name": "stdout",
     "output_type": "stream",
     "text": [
      "40 30 10 5 20 18 50 "
     ]
    }
   ],
   "source": [
    "# traverse the tree in preorder way\n",
    "bst._preorder_traversal()"
   ]
  },
  {
   "cell_type": "code",
   "execution_count": 8,
   "metadata": {},
   "outputs": [
    {
     "name": "stdout",
     "output_type": "stream",
     "text": [
      "5 18 20 10 30 50 40 "
     ]
    }
   ],
   "source": [
    "# traverse the tree in post order way\n",
    "bst._postorder_traversal()"
   ]
  },
  {
   "cell_type": "code",
   "execution_count": 9,
   "metadata": {},
   "outputs": [],
   "source": [
    "bst._delete_node(100)"
   ]
  },
  {
   "cell_type": "code",
   "execution_count": 10,
   "metadata": {},
   "outputs": [
    {
     "name": "stdout",
     "output_type": "stream",
     "text": [
      "5 10 18 20 30 40 50 "
     ]
    }
   ],
   "source": [
    "bst._inorder_traversal()"
   ]
  },
  {
   "cell_type": "code",
   "execution_count": null,
   "metadata": {},
   "outputs": [],
   "source": []
  }
 ],
 "metadata": {
  "kernelspec": {
   "display_name": "Python 3",
   "language": "python",
   "name": "python3"
  },
  "language_info": {
   "codemirror_mode": {
    "name": "ipython",
    "version": 3
   },
   "file_extension": ".py",
   "mimetype": "text/x-python",
   "name": "python",
   "nbconvert_exporter": "python",
   "pygments_lexer": "ipython3",
   "version": "3.6.6"
  }
 },
 "nbformat": 4,
 "nbformat_minor": 2
}
